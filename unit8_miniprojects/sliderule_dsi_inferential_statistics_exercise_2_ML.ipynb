{
 "cells": [
  {
   "cell_type": "markdown",
   "metadata": {},
   "source": [
    "# Examining Racial Discrimination in the US Job Market\n",
    "\n",
    "### Background\n",
    "Racial discrimination continues to be pervasive in cultures throughout the world. Researchers examined the level of racial discrimination in the United States labor market by randomly assigning identical résumés to black-sounding or white-sounding names and observing the impact on requests for interviews from employers.\n",
    "\n",
    "### Data\n",
    "In the dataset provided, each row represents a resume. The 'race' column has two values, 'b' and 'w', indicating black-sounding and white-sounding. The column 'call' has two values, 1 and 0, indicating whether the resume received a call from employers or not.\n",
    "\n",
    "Note that the 'b' and 'w' values in race are assigned randomly to the resumes when presented to the employer."
   ]
  },
  {
   "cell_type": "markdown",
   "metadata": {},
   "source": [
    "<div class=\"span5 alert alert-info\">\n",
    "### Exercises\n",
    "You will perform a statistical analysis to establish whether race has a significant impact on the rate of callbacks for resumes.\n",
    "\n",
    "Answer the following questions **in this notebook below and submit to your Github account**. \n",
    "\n",
    "   1. What test is appropriate for this problem? Does CLT apply?\n",
    "   2. What are the null and alternate hypotheses?\n",
    "   3. Compute margin of error, confidence interval, and p-value. Try using both the bootstrapping and the frequentist statistical approaches.\n",
    "   4. Write a story describing the statistical significance in the context or the original problem.\n",
    "   5. Does your analysis mean that race/name is the most important factor in callback success? Why or why not? If not, how would you amend your analysis?\n",
    "\n",
    "You can include written notes in notebook cells using Markdown: \n",
    "   - In the control panel at the top, choose Cell > Cell Type > Markdown\n",
    "   - Markdown syntax: http://nestacms.com/docs/creating-content/markdown-cheat-sheet\n",
    "\n",
    "\n",
    "#### Resources\n",
    "+ Experiment information and data source: http://www.povertyactionlab.org/evaluation/discrimination-job-market-united-states\n",
    "+ Scipy statistical methods: http://docs.scipy.org/doc/scipy/reference/stats.html \n",
    "+ Markdown syntax: http://nestacms.com/docs/creating-content/markdown-cheat-sheet\n",
    "+ Formulas for the Bernoulli distribution: https://en.wikipedia.org/wiki/Bernoulli_distribution\n",
    "</div>\n",
    "****"
   ]
  },
  {
   "cell_type": "code",
   "execution_count": 20,
   "metadata": {},
   "outputs": [],
   "source": [
    "import pandas as pd\n",
    "import numpy as np\n",
    "from scipy import stats"
   ]
  },
  {
   "cell_type": "code",
   "execution_count": 21,
   "metadata": {},
   "outputs": [],
   "source": [
    "data = pd.io.stata.read_stata('data/us_job_market_discrimination.dta')"
   ]
  },
  {
   "cell_type": "code",
   "execution_count": 24,
   "metadata": {},
   "outputs": [
    {
     "name": "stdout",
     "output_type": "stream",
     "text": [
      "sizes of w, b and total:  158275 158275 316550\n"
     ]
    }
   ],
   "source": [
    "w = data[data.race=='w']\n",
    "b = data[data.race=='b']\n",
    "\n",
    "print(\"sizes of w, b and total: \", w.size, b.size, data.size)"
   ]
  },
  {
   "cell_type": "markdown",
   "metadata": {},
   "source": [
    "## Question 1:\n",
    "1) We will use two-sample T-test to compare rates of call-back between w and b\n",
    "2) Sample sizes for w and b are 158275 each. The size is large enough that CLT is a reasonable assumption\n"
   ]
  },
  {
   "cell_type": "markdown",
   "metadata": {},
   "source": [
    "## Question 2: Hypothesis\n",
    "H0: Race has no impact on the call-back rates<BR>\n",
    "Ha: Race does have an impact on the call-back rates"
   ]
  },
  {
   "cell_type": "markdown",
   "metadata": {},
   "source": [
    "## Question 3:"
   ]
  },
  {
   "cell_type": "markdown",
   "metadata": {},
   "source": [
    "### Conclusion:\n",
    "Based on the result, the p_value is very small. Thus we reject the Null hypothesis and deduce that Race has an impact on the call-back rates"
   ]
  },
  {
   "cell_type": "code",
   "execution_count": 27,
   "metadata": {},
   "outputs": [
    {
     "name": "stdout",
     "output_type": "stream",
     "text": [
      "Bootstrapping Approach\n",
      "callbacks mean for both black and white: 0.09650924\n",
      "95% confidence interval =  [0.01642711 0.04722793]\n",
      "p_val:  0.0 \n",
      "\n",
      "Frequentist Approach\n",
      "mean callbacks for white from samples: 0.09650924\n",
      "mean callbacks for black from samples: 0.064476386\n",
      "t_val: 4.1155504738096065\n",
      "p_val:  Ttest_indResult(statistic=4.114705290861751, pvalue=3.940802103128886e-05) \n",
      "\n"
     ]
    }
   ],
   "source": [
    "# Your solution to Q3 here\n",
    "# Get Margin of error, cond interval and p-value\n",
    "# Margin of error: range of values below and above the samples in a confidence interval\n",
    "\n",
    "def bootstrap_replicate_1d(data, func):\n",
    "  return func(np.random.choice(data, size=len(data)))\n",
    "\n",
    "def draw_bs_reps(data, func, size=1):\n",
    "    return np.array([bootstrap_replicate_1d(data, func) for _ in range(size)])\n",
    "\n",
    "# 2-sample test\n",
    "w_call = w.call\n",
    "b_call = b.call\n",
    "\n",
    "# a) Bootstrapping\n",
    "mean_diff = np.mean(w_call) - np.mean(b_call)\n",
    "bs_replicates_w = draw_bs_reps(w_call, np.mean, 10000)\n",
    "bs_replicates_b = draw_bs_reps(b_call, np.mean, 10000)\n",
    "bs_diff_replicates = bs_replicates_w - bs_replicates_b\n",
    "conf_int = np.percentile(bs_diff_replicates,[2.5,97.5])\n",
    "\n",
    "total_mean = np.mean(data.call)\n",
    "w_shifted = w_call - np.mean(w_call) + total_mean\n",
    "b_shifted = b_call - np.mean(b_call) + total_mean\n",
    "bs_replicates_w = draw_bs_reps(w_shifted, np.mean, 10000)\n",
    "bs_replicates_b = draw_bs_reps(b_shifted, np.mean, 10000)\n",
    "bs_diff_replicates = bs_replicates_w - bs_replicates_b\n",
    "p = np.sum(bs_diff_replicates >= mean_diff) / len(bs_diff_replicates)\n",
    "\n",
    "print(\"Bootstrapping Approach\")\n",
    "print(\"callbacks mean for both black and white:\", np.mean(w_call))\n",
    "print('95% confidence interval = ', conf_int)\n",
    "print(\"p_val: \", p, '\\n')\n",
    "\n",
    "# b) Frequentist\n",
    "std_error = np.sqrt(np.var(w_call)/w_call.size + np.var(b_call)/b_call.size )\n",
    "t_val = (np.mean(w_call) - np.mean(b_call)) / std_error\n",
    "p = stats.ttest_ind(w_call, b_call)\n",
    "\n",
    "print(\"Frequentist Approach\")\n",
    "print(\"mean callbacks for white from samples:\", np.mean(w_call))\n",
    "print(\"mean callbacks for black from samples:\", np.mean(b_call))\n",
    "print(\"t_val:\", t_val)\n",
    "print(\"p_val: \", p, '\\n')"
   ]
  },
  {
   "cell_type": "markdown",
   "metadata": {},
   "source": [
    "## Question 4: Data Story:\n",
    "Both of the Bootstrapping and Frequentist results yield a small p-value that indicates the probability is very small to have the difference between mean callbacks for black and total mean. Thus we should reject the Null hypothesis and that Race has an impact on the call-back rates.  \n",
    "\n",
    "However until we analyze the impacts/weights from different elements in a resume (eg skills, work experiences, etc) on the callback rate, we cannot conclude that race has significant impact on requests for interviews based on this statistics alone."
   ]
  },
  {
   "cell_type": "markdown",
   "metadata": {},
   "source": [
    "## Question 5: \n",
    "The analysis here proves that race does have an impact on callback success, but we cannot conclude that race/name is the most important factor in callback success based on this statistics. We just do not have the data to put weights on different elements in the resume. We should take similar statistics data on how other elements (eg yearsexp, sex, computerskills, education, etc) impact the call back rates."
   ]
  },
  {
   "cell_type": "code",
   "execution_count": 28,
   "metadata": {},
   "outputs": [
    {
     "data": {
      "text/plain": [
       "Index(['id', 'ad', 'education', 'ofjobs', 'yearsexp', 'honors', 'volunteer',\n",
       "       'military', 'empholes', 'occupspecific', 'occupbroad', 'workinschool',\n",
       "       'email', 'computerskills', 'specialskills', 'firstname', 'sex', 'race',\n",
       "       'h', 'l', 'call', 'city', 'kind', 'adid', 'fracblack', 'fracwhite',\n",
       "       'lmedhhinc', 'fracdropout', 'fraccolp', 'linc', 'col', 'expminreq',\n",
       "       'schoolreq', 'eoe', 'parent_sales', 'parent_emp', 'branch_sales',\n",
       "       'branch_emp', 'fed', 'fracblack_empzip', 'fracwhite_empzip',\n",
       "       'lmedhhinc_empzip', 'fracdropout_empzip', 'fraccolp_empzip',\n",
       "       'linc_empzip', 'manager', 'supervisor', 'secretary', 'offsupport',\n",
       "       'salesrep', 'retailsales', 'req', 'expreq', 'comreq', 'educreq',\n",
       "       'compreq', 'orgreq', 'manuf', 'transcom', 'bankreal', 'trade',\n",
       "       'busservice', 'othservice', 'missind', 'ownership'],\n",
       "      dtype='object')"
      ]
     },
     "execution_count": 28,
     "metadata": {},
     "output_type": "execute_result"
    }
   ],
   "source": [
    "data.columns"
   ]
  },
  {
   "cell_type": "code",
   "execution_count": null,
   "metadata": {},
   "outputs": [],
   "source": []
  }
 ],
 "metadata": {
  "kernelspec": {
   "display_name": "Python 3",
   "language": "python",
   "name": "python3"
  },
  "language_info": {
   "codemirror_mode": {
    "name": "ipython",
    "version": 3
   },
   "file_extension": ".py",
   "mimetype": "text/x-python",
   "name": "python",
   "nbconvert_exporter": "python",
   "pygments_lexer": "ipython3",
   "version": "3.6.5"
  }
 },
 "nbformat": 4,
 "nbformat_minor": 1
}
