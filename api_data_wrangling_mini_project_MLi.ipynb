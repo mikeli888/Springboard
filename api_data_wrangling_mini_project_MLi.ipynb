{
 "cells": [
  {
   "cell_type": "markdown",
   "metadata": {},
   "source": [
    "This exercise will require you to pull some data from the Qunadl API. Qaundl is currently the most widely used aggregator of financial market data."
   ]
  },
  {
   "cell_type": "markdown",
   "metadata": {},
   "source": [
    "As a first step, you will need to register a free account on the http://www.quandl.com website."
   ]
  },
  {
   "cell_type": "markdown",
   "metadata": {},
   "source": [
    "After you register, you will be provided with a unique API key, that you should store:"
   ]
  },
  {
   "cell_type": "code",
   "execution_count": 4,
   "metadata": {},
   "outputs": [],
   "source": [
    "# Store the API key as a string - according to PEP8, constants are always named in all upper case\n",
    "API_KEY = 'ikswVJ_jgdHf3QfH2Hxe'"
   ]
  },
  {
   "cell_type": "markdown",
   "metadata": {},
   "source": [
    "Qaundl has a large number of data sources, but, unfortunately, most of them require a Premium subscription. Still, there are also a good number of free datasets."
   ]
  },
  {
   "cell_type": "markdown",
   "metadata": {},
   "source": [
    "For this mini project, we will focus on equities data from the Frankfurt Stock Exhange (FSE), which is available for free. We'll try and analyze the stock prices of a company called Carl Zeiss Meditec, which manufactures tools for eye examinations, as well as medical lasers for laser eye surgery: https://www.zeiss.com/meditec/int/home.html. The company is listed under the stock ticker AFX_X."
   ]
  },
  {
   "cell_type": "markdown",
   "metadata": {},
   "source": [
    "You can find the detailed Quandl API instructions here: https://docs.quandl.com/docs/time-series"
   ]
  },
  {
   "cell_type": "markdown",
   "metadata": {},
   "source": [
    "While there is a dedicated Python package for connecting to the Quandl API, we would prefer that you use the *requests* package, which can be easily downloaded using *pip* or *conda*. You can find the documentation for the package here: http://docs.python-requests.org/en/master/ "
   ]
  },
  {
   "cell_type": "markdown",
   "metadata": {},
   "source": [
    "Finally, apart from the *requests* package, you are encouraged to not use any third party Python packages, such as *pandas*, and instead focus on what's available in the Python Standard Library (the *collections* module might come in handy: https://pymotw.com/3/collections/).\n",
    "Also, since you won't have access to DataFrames, you are encouraged to us Python's native data structures - preferably dictionaries, though some questions can also be answered using lists.\n",
    "You can read more on these data structures here: https://docs.python.org/3/tutorial/datastructures.html"
   ]
  },
  {
   "cell_type": "markdown",
   "metadata": {},
   "source": [
    "Keep in mind that the JSON responses you will be getting from the API map almost one-to-one to Python's dictionaries. Unfortunately, they can be very nested, so make sure you read up on indexing dictionaries in the documentation provided above."
   ]
  },
  {
   "cell_type": "code",
   "execution_count": 2,
   "metadata": {},
   "outputs": [],
   "source": [
    "# First, import the relevant modules\n",
    "import requests"
   ]
  },
  {
   "cell_type": "code",
   "execution_count": 113,
   "metadata": {},
   "outputs": [
    {
     "name": "stdout",
     "output_type": "stream",
     "text": [
      "one-day:  ['2017-01-02', 34.99, 35.94, 34.99, 35.8, None, 44700.0, 1590561.0, None, None, None]\n"
     ]
    }
   ],
   "source": [
    "# Now, call the Quandl API and pull out a small sample of the data (only one day) to get a glimpse\n",
    "# into the JSON structure that will be returned\n",
    "\n",
    "# Issue1: It set End Date as 3/27/18 even I don't pass in the call (7/23/18)\n",
    "r = requests.get('https://www.quandl.com/api/v3/datasets/FSE/AFX_X/data.json'+\n",
    "                 '?start_date=2017-01-02&end_date=2017-01-05&order=asc&api_key='+ API_KEY) \n",
    "\n",
    "# Format: Date, Open, High, Low, Close, Change, Volume\n",
    "# Sample 1 day data: ['2018-03-27', 156.31, 162.85, 150.75, 152.19, 76787884.0, 0.0, 1.0, 156.31, 162.85, 150.75, 152.19, 76787884.0]\n",
    "# r.json()['dataset_data']['data']: 2-D list, just use num index\n",
    "#print(\"top-level: \", r.json())\n",
    "# print(\"one-day price: \", r.json()['dataset_data']['data'][0][1] )\n",
    "print(\"one-day: \", r.json()['dataset_data']['data'][0] )\n"
   ]
  },
  {
   "cell_type": "code",
   "execution_count": null,
   "metadata": {
    "collapsed": true
   },
   "outputs": [],
   "source": [
    "# Inspect the JSON structure of the object you created, and take note of how nested it is,\n",
    "# as well as the overall structure\n"
   ]
  },
  {
   "cell_type": "markdown",
   "metadata": {},
   "source": [
    "These are your tasks for this mini project:\n",
    "\n",
    "1. Collect data from the Franfurt Stock Exchange, for the ticker AFX_X, for the whole year 2017 (keep in mind that the date format is YYYY-MM-DD).\n",
    "2. Convert the returned JSON object into a Python dictionary.\n",
    "3. Calculate what the highest and lowest opening prices were for the stock in this period.\n",
    "4. What was the largest change in any one day (based on High and Low price)?\n",
    "5. What was the largest change between any two days (based on Closing Price)?\n",
    "6. What was the average daily trading volume during this year?\n",
    "7. (Optional) What was the median trading volume during this year. (Note: you may need to implement your own function for calculating the median.)"
   ]
  },
  {
   "cell_type": "markdown",
   "metadata": {},
   "source": [
    "## 1: Collect data for the ticker AFX_X, for the whole year 2017"
   ]
  },
  {
   "cell_type": "code",
   "execution_count": 135,
   "metadata": {},
   "outputs": [
    {
     "name": "stdout",
     "output_type": "stream",
     "text": [
      "first day:  ['2017-01-02', 34.99, 35.94, 34.99, 35.8, None, 44700.0, 1590561.0, None, None, None]\n",
      "last day:  ['2017-12-29', 51.76, 51.94, 51.45, 51.76, None, 34640.0, 1792304.0, None, None, None]\n"
     ]
    }
   ],
   "source": [
    "# 1: Collect data from the Franfurt Stock Exchange, for the ticker AFX_X, for the whole year 2017\n",
    "# Sample: https://docs.quandl.com/docs/quick-start-examples-1\n",
    "r = requests.get('https://www.quandl.com/api/v3/datasets/FSE/AFX_X/data.json'+\n",
    "                 '?start_date=2017-01-02&end_date=2017-12-31&order=asc&api_key='+ API_KEY) \n",
    "\n",
    "# FAQ: Use https://www.quandl.com/data/FSE/AFX_X-Carl-Zeiss-Meditec-AFX_X UI to confirm the data returned\n",
    "\n",
    "p2017_list = r.json()['dataset_data']['data']\n",
    "print('first day: ', p2017_list[0])\n",
    "print('last day: ', p2017_list[-1])"
   ]
  },
  {
   "cell_type": "markdown",
   "metadata": {},
   "source": [
    "## 2 Convert the returned JSON object into a Python dictionary"
   ]
  },
  {
   "cell_type": "code",
   "execution_count": 91,
   "metadata": {},
   "outputs": [],
   "source": [
    "# 2 Convert the returned JSON object into a Python dictionary.\n",
    "\n",
    "# Ref: https://docs.python.org/3.3/library/stdtypes.html#dict\n",
    "p2017_dict_header = [i[0] for i in p2017_list]\n",
    "p2017_dict = dict(zip(p2017_dict_header, p2017_list))"
   ]
  },
  {
   "cell_type": "markdown",
   "metadata": {},
   "source": [
    "## 3. Calculate what the highest and lowest opening prices were for the stock in this period"
   ]
  },
  {
   "cell_type": "code",
   "execution_count": 158,
   "metadata": {},
   "outputs": [
    {
     "name": "stdout",
     "output_type": "stream",
     "text": [
      "highest opening prices: 53.11 on 2017-12-14\n",
      "lowest opening prices: 34.0 on 2017-01-24\n"
     ]
    }
   ],
   "source": [
    "# 3. Calculate what the highest and lowest opening prices were for the stock in this period.\n",
    "\n",
    "# 1) Inner list has mix types (eg \"None\") so has condition to remove\n",
    "# 1b) Tried \"if not str(i[1]).isdigit()\" but that did not remove the \"None\"s\n",
    "p2017_opens = [i[1] for i in p2017_list if type(i[1]) in [float, int] ]    # Cnt:252\n",
    "max_open = max(p2017_opens)\n",
    "min_open = min(p2017_opens)\n",
    "for k, v in p2017_dict.items():\n",
    "    if v[1] == max_open: max_day = k ;\n",
    "    elif v[1] == min_open: min_day = k ;\n",
    "    \n",
    "print(\"highest opening prices:\", max(p2017_opens), \"on\", max_day)\n",
    "print(\"lowest opening prices:\", min(p2017_opens), \"on\", min_day)\n",
    "    \n",
    "# Version 1 \n",
    "# p2017_opens = [i[1] for i in p2017_list if type(i[1]) in [float, int] ]    # Cnt:252\n",
    "# print(\"highest opening prices:\", max(p2017_opens))\n",
    "# print(\"lowest opening prices:\", min(p2017_opens))\n",
    "\n",
    "# ref: 1) https://stackoverflow.com/questions/39748916/find-maximum-value-and-index-in-a-python-list\n",
    "#      2) https://medium.com/@antash/six-ways-to-find-max-value-of-a-list-in-python-b7d7ccfabc0d"
   ]
  },
  {
   "cell_type": "markdown",
   "metadata": {},
   "source": [
    "## 4. What was the largest change in any one day (based on High and Low price)?"
   ]
  },
  {
   "cell_type": "code",
   "execution_count": 161,
   "metadata": {},
   "outputs": [
    {
     "name": "stdout",
     "output_type": "stream",
     "text": [
      "largest change: 2.8100000000000023 on 2017-05-11\n"
     ]
    }
   ],
   "source": [
    "# 4. What was the largest change in any one day (based on High and Low price)?\n",
    "\n",
    "p2017_changes = [(i[2] - i[3]) for i in p2017_list]\n",
    "max_change = max(p2017_changes)\n",
    "for k, v in p2017_dict.items():\n",
    "    if (v[2] - v[3]) == max_change: the_date = k ;\n",
    "        \n",
    "print('largest change:', max_change, \"on\", the_date)"
   ]
  },
  {
   "cell_type": "markdown",
   "metadata": {},
   "source": [
    "## 5. What was the largest change between any two days (based on Closing Price)?"
   ]
  },
  {
   "cell_type": "code",
   "execution_count": 164,
   "metadata": {},
   "outputs": [
    {
     "name": "stdout",
     "output_type": "stream",
     "text": [
      "largest change 2.559999999999995\n"
     ]
    }
   ],
   "source": [
    "# 5. What was the largest change between any two days (based on Closing Price)?# 5. What \n",
    "p2017_closes = [i[4] for i in p2017_list]\n",
    "p2017_2daysdiff = [abs(p2017_closes[i] - p2017_closes[i-1]) for i in range(1,len(p2017_closes)) ]\n",
    "print(\"largest change\", max(p2017_2daysdiff))"
   ]
  },
  {
   "cell_type": "markdown",
   "metadata": {},
   "source": [
    "## 6. What was the average daily trading volume during this year?"
   ]
  },
  {
   "cell_type": "code",
   "execution_count": 134,
   "metadata": {},
   "outputs": [
    {
     "name": "stdout",
     "output_type": "stream",
     "text": [
      "Average daily trading volume:  89140.97619047618\n"
     ]
    }
   ],
   "source": [
    "# 6. What was the average daily trading volume during this year?\n",
    "\n",
    "# 7/23/18: Use https://www.quandl.com/data/FSE-Frankfurt-Stock-Exchange?keyword=AFX_X to confirm the position of return data\n",
    "p2017_volumes = [i[6] for i in p2017_list if type(i[1]) in [float, int]]\n",
    "print(\"Average daily trading volume: \", sum(p2017_volumes) / float(len(p2017_volumes)))"
   ]
  }
 ],
 "metadata": {
  "kernelspec": {
   "display_name": "Python 3",
   "language": "python",
   "name": "python3"
  },
  "language_info": {
   "codemirror_mode": {
    "name": "ipython",
    "version": 3
   },
   "file_extension": ".py",
   "mimetype": "text/x-python",
   "name": "python",
   "nbconvert_exporter": "python",
   "pygments_lexer": "ipython3",
   "version": "3.6.5"
  }
 },
 "nbformat": 4,
 "nbformat_minor": 2
}
