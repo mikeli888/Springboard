{
 "cells": [
  {
   "cell_type": "markdown",
   "metadata": {},
   "source": [
    "# Airbnb Pricing Analysis"
   ]
  },
  {
   "cell_type": "markdown",
   "metadata": {},
   "source": [
    "### Notebook By: Mike Li"
   ]
  },
  {
   "cell_type": "markdown",
   "metadata": {},
   "source": [
    "# SUMMARY"
   ]
  },
  {
   "cell_type": "markdown",
   "metadata": {},
   "source": [
    "## Project Goal"
   ]
  },
  {
   "cell_type": "markdown",
   "metadata": {},
   "source": [
    "The goal of this project is to build a model to predict the rental prices of AirBNB listings based on various factors such as location, size, etc "
   ]
  },
  {
   "cell_type": "markdown",
   "metadata": {},
   "source": [
    "## Data Wrangling"
   ]
  },
  {
   "cell_type": "markdown",
   "metadata": {},
   "source": [
    "1. Transform Date columns (host_since, first_review, last_review) to date Format\n",
    "\n",
    "2. Transform dollar amount columns (price, weekly_price, monthly_price, security_deposit, cleaning_fee):\n",
    "    a) removing $ and \",\" signs\n",
    "    b) filling the empty dollar values with 0\n",
    "\n",
    "3. Transform some columns with discrete values to type \"category\". These are property_type, room_type, bed_type, cancellation_policy\n",
    "\n",
    "4. Run drop_duplicates() on dataframe to remove duplicates."
   ]
  },
  {
   "cell_type": "markdown",
   "metadata": {},
   "source": [
    "### Initial Review\n",
    "1. Total Record Count: 7785<BR>\n",
    "2. NULL Columns (ie with missing values):<BR>\n",
    "|**Columns|Values Count**|<BR>\n",
    "|bathrooms|7778|<BR>\n",
    "|bedrooms|7784|<BR>\n",
    "|square_feet|217|<BR>\n",
    "|weekly_price|1302|<BR>\n",
    "|monthly_price|1012|<BR>\n",
    "|security_deposit|5563|<BR>\n",
    "|cleaning_fee|6782|<BR>\n",
    "|first_review|6724|<BR>\n",
    "|last_review|6731|<BR>"
   ]
  },
  {
   "cell_type": "markdown",
   "metadata": {},
   "source": [
    "## Exploratory Data Analysis (EDA)"
   ]
  },
  {
   "cell_type": "markdown",
   "metadata": {},
   "source": [
    "**The analysis will mainly use these information:**\n",
    "1. The rental configurations (property type, room type, bathrooms, bedrooms, square_feet, etc)\n",
    "2. pricing (price, weekly_price, monthly_price, security_deposit, cleaning_fee) -> Discount (derived)\n",
    "3. host's policy (guests_included, extra_people, minimum_nights, maximum_nights, cancellation_policy)\n",
    "4. host (host_is_superhost)\n",
    "5. Airbnb reviews (number_of_reviews,first_review, last_review)"
   ]
  },
  {
   "cell_type": "markdown",
   "metadata": {},
   "source": [
    "# Actual Notebook"
   ]
  },
  {
   "cell_type": "code",
   "execution_count": 153,
   "metadata": {},
   "outputs": [],
   "source": [
    "import pandas as pd\n",
    "import numpy as np\n",
    "import matplotlib.pyplot as plt\n",
    "import seaborn as sns\n",
    "#r_listings = pd.read_csv('sea_first100.csv', index_col='id');\n",
    "r_listings_raw = pd.read_csv('sea_full.csv', index_col='id');"
   ]
  },
  {
   "cell_type": "code",
   "execution_count": 154,
   "metadata": {},
   "outputs": [
    {
     "name": "stdout",
     "output_type": "stream",
     "text": [
      "(7785, 95)\n"
     ]
    },
    {
     "data": {
      "text/html": [
       "<div>\n",
       "<style scoped>\n",
       "    .dataframe tbody tr th:only-of-type {\n",
       "        vertical-align: middle;\n",
       "    }\n",
       "\n",
       "    .dataframe tbody tr th {\n",
       "        vertical-align: top;\n",
       "    }\n",
       "\n",
       "    .dataframe thead th {\n",
       "        text-align: right;\n",
       "    }\n",
       "</style>\n",
       "<table border=\"1\" class=\"dataframe\">\n",
       "  <thead>\n",
       "    <tr style=\"text-align: right;\">\n",
       "      <th></th>\n",
       "      <th>listing_url</th>\n",
       "      <th>scrape_id</th>\n",
       "      <th>last_scraped</th>\n",
       "      <th>name</th>\n",
       "      <th>summary</th>\n",
       "      <th>space</th>\n",
       "      <th>description</th>\n",
       "      <th>experiences_offered</th>\n",
       "      <th>neighborhood_overview</th>\n",
       "      <th>notes</th>\n",
       "      <th>...</th>\n",
       "      <th>requires_license</th>\n",
       "      <th>license</th>\n",
       "      <th>jurisdiction_names</th>\n",
       "      <th>instant_bookable</th>\n",
       "      <th>is_business_travel_ready</th>\n",
       "      <th>cancellation_policy</th>\n",
       "      <th>require_guest_profile_picture</th>\n",
       "      <th>require_guest_phone_verification</th>\n",
       "      <th>calculated_host_listings_count</th>\n",
       "      <th>reviews_per_month</th>\n",
       "    </tr>\n",
       "    <tr>\n",
       "      <th>id</th>\n",
       "      <th></th>\n",
       "      <th></th>\n",
       "      <th></th>\n",
       "      <th></th>\n",
       "      <th></th>\n",
       "      <th></th>\n",
       "      <th></th>\n",
       "      <th></th>\n",
       "      <th></th>\n",
       "      <th></th>\n",
       "      <th></th>\n",
       "      <th></th>\n",
       "      <th></th>\n",
       "      <th></th>\n",
       "      <th></th>\n",
       "      <th></th>\n",
       "      <th></th>\n",
       "      <th></th>\n",
       "      <th></th>\n",
       "      <th></th>\n",
       "      <th></th>\n",
       "    </tr>\n",
       "  </thead>\n",
       "  <tbody>\n",
       "    <tr>\n",
       "      <th>2318</th>\n",
       "      <td>https://www.airbnb.com/rooms/2318</td>\n",
       "      <td>20180517031042</td>\n",
       "      <td>2018-05-17</td>\n",
       "      <td>Casa Madrona - Urban Oasis, 1 block from the P...</td>\n",
       "      <td>Gorgeous, architect remodeled, 1917 Dutch Colo...</td>\n",
       "      <td>Casa Madrona is a gorgeous, architect remodele...</td>\n",
       "      <td>Gorgeous, architect remodeled, 1917 Dutch Colo...</td>\n",
       "      <td>none</td>\n",
       "      <td>NaN</td>\n",
       "      <td>We adhere to a 10pm -9am quiet hour schedule, ...</td>\n",
       "      <td>...</td>\n",
       "      <td>f</td>\n",
       "      <td>NaN</td>\n",
       "      <td>{WASHINGTON}</td>\n",
       "      <td>t</td>\n",
       "      <td>f</td>\n",
       "      <td>strict_14_with_grace_period</td>\n",
       "      <td>f</td>\n",
       "      <td>f</td>\n",
       "      <td>2</td>\n",
       "      <td>0.14</td>\n",
       "    </tr>\n",
       "    <tr>\n",
       "      <th>4291</th>\n",
       "      <td>https://www.airbnb.com/rooms/4291</td>\n",
       "      <td>20180517031042</td>\n",
       "      <td>2018-05-17</td>\n",
       "      <td>Sunrise in Seattle Master Suite</td>\n",
       "      <td>This property is located in the lovely Maple L...</td>\n",
       "      <td>Located in Seattle, this is a spacious, clean ...</td>\n",
       "      <td>This property is located in the lovely Maple L...</td>\n",
       "      <td>none</td>\n",
       "      <td>NaN</td>\n",
       "      <td>NaN</td>\n",
       "      <td>...</td>\n",
       "      <td>f</td>\n",
       "      <td>NaN</td>\n",
       "      <td>{WASHINGTON}</td>\n",
       "      <td>f</td>\n",
       "      <td>f</td>\n",
       "      <td>moderate</td>\n",
       "      <td>f</td>\n",
       "      <td>f</td>\n",
       "      <td>5</td>\n",
       "      <td>0.91</td>\n",
       "    </tr>\n",
       "  </tbody>\n",
       "</table>\n",
       "<p>2 rows × 95 columns</p>\n",
       "</div>"
      ],
      "text/plain": [
       "                            listing_url       scrape_id last_scraped  \\\n",
       "id                                                                     \n",
       "2318  https://www.airbnb.com/rooms/2318  20180517031042   2018-05-17   \n",
       "4291  https://www.airbnb.com/rooms/4291  20180517031042   2018-05-17   \n",
       "\n",
       "                                                   name  \\\n",
       "id                                                        \n",
       "2318  Casa Madrona - Urban Oasis, 1 block from the P...   \n",
       "4291                    Sunrise in Seattle Master Suite   \n",
       "\n",
       "                                                summary  \\\n",
       "id                                                        \n",
       "2318  Gorgeous, architect remodeled, 1917 Dutch Colo...   \n",
       "4291  This property is located in the lovely Maple L...   \n",
       "\n",
       "                                                  space  \\\n",
       "id                                                        \n",
       "2318  Casa Madrona is a gorgeous, architect remodele...   \n",
       "4291  Located in Seattle, this is a spacious, clean ...   \n",
       "\n",
       "                                            description experiences_offered  \\\n",
       "id                                                                            \n",
       "2318  Gorgeous, architect remodeled, 1917 Dutch Colo...                none   \n",
       "4291  This property is located in the lovely Maple L...                none   \n",
       "\n",
       "     neighborhood_overview                                              notes  \\\n",
       "id                                                                              \n",
       "2318                   NaN  We adhere to a 10pm -9am quiet hour schedule, ...   \n",
       "4291                   NaN                                                NaN   \n",
       "\n",
       "            ...        requires_license license jurisdiction_names  \\\n",
       "id          ...                                                      \n",
       "2318        ...                       f     NaN       {WASHINGTON}   \n",
       "4291        ...                       f     NaN       {WASHINGTON}   \n",
       "\n",
       "     instant_bookable  is_business_travel_ready          cancellation_policy  \\\n",
       "id                                                                             \n",
       "2318                t                         f  strict_14_with_grace_period   \n",
       "4291                f                         f                     moderate   \n",
       "\n",
       "     require_guest_profile_picture  require_guest_phone_verification  \\\n",
       "id                                                                     \n",
       "2318                             f                                 f   \n",
       "4291                             f                                 f   \n",
       "\n",
       "      calculated_host_listings_count reviews_per_month  \n",
       "id                                                      \n",
       "2318                               2              0.14  \n",
       "4291                               5              0.91  \n",
       "\n",
       "[2 rows x 95 columns]"
      ]
     },
     "execution_count": 154,
     "metadata": {},
     "output_type": "execute_result"
    }
   ],
   "source": [
    "print(r_listings_raw.shape)\n",
    "r_listings_raw.head(2)"
   ]
  },
  {
   "cell_type": "code",
   "execution_count": 155,
   "metadata": {},
   "outputs": [],
   "source": [
    "# TODO: General (Ref Unit 7.1.2 video)\n",
    "# 1) What's the story?\n",
    "# 2) What's memorable example of this? (ref: Linda the Bank Teller) (6/30)\n",
    "# 3) What're more questions this will raise?\n",
    "# 4a) Who is your audience? (but should be accessible to broadest audiences possible)\n",
    "# 4b) What questions are you answering?\n",
    "# 4c) Why should the audience care?\n",
    "# 4d) What are your major insights and surprises? What change to you want to affect?\n",
    "\n",
    "# 1) Story: Being an Airbnb host is not easy. Besides dealing with changing local \n",
    "#            regulations on the rental and uncertainty of renting out your house, \n",
    "#            the host also needs to ensure there is profit after incurring all the costs. \n",
    "# 4a) Audience: Airbnb hosts\n",
    "# 4b) Questions Answering:\n",
    "#     1) What drives price? Loc (eg Zips) or Configs (bed_type, room_type, property_type)    \n",
    "# 4c) Why they care: Help them maximize profit by optimize the rental price, weekly and monthly prices\n"
   ]
  },
  {
   "cell_type": "markdown",
   "metadata": {},
   "source": [
    "## Data Cleaning"
   ]
  },
  {
   "cell_type": "markdown",
   "metadata": {},
   "source": [
    "### Initial Review: List columns with Null values"
   ]
  },
  {
   "cell_type": "code",
   "execution_count": 156,
   "metadata": {
    "scrolled": true
   },
   "outputs": [
    {
     "name": "stdout",
     "output_type": "stream",
     "text": [
      "(7785, 25)\n",
      "<class 'pandas.core.frame.DataFrame'>\n",
      "Int64Index: 7785 entries, 2318 to 25133573\n",
      "Data columns (total 25 columns):\n",
      "property_type          7785 non-null object\n",
      "room_type              7785 non-null object\n",
      "accommodates           7785 non-null int64\n",
      "city                   7785 non-null object\n",
      "state                  7777 non-null object\n",
      "zipcode                7714 non-null object\n",
      "bathrooms              7778 non-null float64\n",
      "bedrooms               7784 non-null float64\n",
      "beds                   7785 non-null int64\n",
      "bed_type               7785 non-null object\n",
      "square_feet            217 non-null float64\n",
      "price                  7785 non-null object\n",
      "weekly_price           1302 non-null object\n",
      "monthly_price          1012 non-null object\n",
      "security_deposit       5563 non-null object\n",
      "cleaning_fee           6782 non-null object\n",
      "guests_included        7785 non-null int64\n",
      "extra_people           7785 non-null object\n",
      "minimum_nights         7785 non-null int64\n",
      "maximum_nights         7785 non-null int64\n",
      "number_of_reviews      7785 non-null int64\n",
      "host_since             7779 non-null object\n",
      "first_review           6724 non-null object\n",
      "last_review            6731 non-null object\n",
      "cancellation_policy    7785 non-null object\n",
      "dtypes: float64(3), int64(6), object(16)\n",
      "memory usage: 1.5+ MB\n"
     ]
    }
   ],
   "source": [
    "# Initial Review\n",
    "# 1) List columns with Null values in file (use info() to identify)\n",
    "\n",
    "required_data = ['property_type','room_type','accommodates',\n",
    "'city', 'state', 'zipcode',\n",
    "'bathrooms','bedrooms','beds',\n",
    "'bed_type','square_feet','price',\n",
    "'weekly_price','monthly_price','security_deposit',\n",
    "'cleaning_fee','guests_included','extra_people',\n",
    "'minimum_nights','maximum_nights','number_of_reviews', 'host_since',\n",
    "'first_review','last_review','cancellation_policy']\n",
    "\n",
    "r_listings = r_listings_raw[:][required_data]\n",
    "print(r_listings.shape)\n",
    "r_listings.info()"
   ]
  },
  {
   "cell_type": "markdown",
   "metadata": {},
   "source": [
    "### Initial Review: Visual review of Categorical Data (eg property/room/bed types) for bad values"
   ]
  },
  {
   "cell_type": "code",
   "execution_count": 157,
   "metadata": {},
   "outputs": [
    {
     "name": "stdout",
     "output_type": "stream",
     "text": [
      "property_type\n",
      "House                 2879\n",
      "Apartment             2806\n",
      "Townhouse              611\n",
      "Guest suite            475\n",
      "Condominium            340\n",
      "Guesthouse             174\n",
      "Serviced apartment      98\n",
      "Loft                    94\n",
      "Bungalow                85\n",
      "Other                   43\n",
      "Bed and breakfast       41\n",
      "Cottage                 25\n",
      "Boat                    21\n",
      "Cabin                   19\n",
      "Camper/RV               15\n",
      "Houseboat               12\n",
      "Tiny house              10\n",
      "Hostel                   9\n",
      "Tent                     7\n",
      "Castle                   3\n",
      "Resort                   3\n",
      "Villa                    3\n",
      "In-law                   2\n",
      "Boutique hotel           2\n",
      "Yurt                     1\n",
      "Farm stay                1\n",
      "Nature lodge             1\n",
      "Lighthouse               1\n",
      "Earth house              1\n",
      "Chalet                   1\n",
      "Treehouse                1\n",
      "Hut                      1\n",
      "Name: property_type, dtype: int64\n",
      "\n",
      "room_type\n",
      "Entire home/apt    5663\n",
      "Private room       1967\n",
      "Shared room         155\n",
      "Name: room_type, dtype: int64\n",
      "\n",
      "bed_type\n",
      "Real Bed         7625\n",
      "Futon              80\n",
      "Pull-out Sofa      49\n",
      "Airbed             25\n",
      "Couch               6\n",
      "Name: bed_type, dtype: int64\n"
     ]
    }
   ],
   "source": [
    "# Review: Categories data\n",
    "print(\"property_type\")\n",
    "print(r_listings['property_type'].value_counts(dropna=False))\n",
    "print(\"\\nroom_type\")\n",
    "print(r_listings['room_type'].value_counts(dropna=False))\n",
    "print(\"\\nbed_type\")\n",
    "print(r_listings['bed_type'].value_counts(dropna=False))"
   ]
  },
  {
   "cell_type": "markdown",
   "metadata": {},
   "source": [
    "### Data Cleaning of Numeric Data"
   ]
  },
  {
   "cell_type": "code",
   "execution_count": 158,
   "metadata": {},
   "outputs": [],
   "source": [
    "# Numeric Columns\n",
    "# 1) Remove $ sign for columns \n",
    "# 2) Fill Null values with 0\n",
    "# Ref: Cleaning Data (UNIT 5.1.4_ Using regular expressions to clean string)\n",
    "\n",
    "def remove_sign(amt):\n",
    "   amt = amt.replace('$', '').replace(',','')\n",
    "   return(float(amt))\n",
    "\n",
    "# TODO: 7/3/18:\n",
    "# 1) just use groupby by zipcode to use mean(), etc. (Make sure blank is NaN and no String values)\n",
    "\n",
    "# Fill null values with 0\n",
    "r_listings['price'] = r_listings['price'].fillna('0') \n",
    "r_listings['weekly_price'] = r_listings['weekly_price'].fillna('0') \n",
    "r_listings['monthly_price'] = r_listings['monthly_price'].fillna('0') \n",
    "r_listings['security_deposit'] = r_listings['security_deposit'].fillna('0') \n",
    "r_listings['cleaning_fee'] = r_listings['cleaning_fee'].fillna('0') \n",
    "\n",
    "# Strip $ or \",\" signs from amt values\n",
    "r_listings['price']  = r_listings['price'].apply(remove_sign)\n",
    "r_listings['weekly_price']  = r_listings['weekly_price'].apply(remove_sign)\n",
    "r_listings['monthly_price']  = r_listings['monthly_price'].apply(remove_sign)\n",
    "r_listings['security_deposit']  = r_listings['security_deposit'].apply(remove_sign)\n",
    "r_listings['cleaning_fee']  = r_listings['cleaning_fee'].apply(remove_sign)"
   ]
  },
  {
   "cell_type": "markdown",
   "metadata": {},
   "source": [
    "### Visual review of Numeric Data for Outliers"
   ]
  },
  {
   "cell_type": "code",
   "execution_count": 159,
   "metadata": {},
   "outputs": [
    {
     "name": "stdout",
     "output_type": "stream",
     "text": [
      "Summary of price\n",
      "count     7785.000000\n",
      "mean       150.853821\n",
      "std        255.345205\n",
      "min          0.000000\n",
      "25%         77.000000\n",
      "50%        110.000000\n",
      "75%        175.000000\n",
      "max      10000.000000\n",
      "Name: price, dtype: float64\n"
     ]
    }
   ],
   "source": [
    "# Review: Numeric data\n",
    "print('Summary of price')\n",
    "print(r_listings['price'].describe())\n",
    "\n",
    "# print(\"\\nMore Bathrooms than bedrooms\")"
   ]
  },
  {
   "cell_type": "markdown",
   "metadata": {},
   "source": [
    "### Cleaning and tidying datetime data"
   ]
  },
  {
   "cell_type": "code",
   "execution_count": 160,
   "metadata": {},
   "outputs": [],
   "source": [
    "# Ref 5.1.1\n",
    "# 6/26/18: Parse Date columns\n",
    "r_listings['host_since'] = pd.to_datetime(r_listings['host_since'])\n",
    "r_listings['first_review'] = pd.to_datetime(r_listings['first_review'])\n",
    "r_listings['last_review'] = pd.to_datetime(r_listings['last_review'])"
   ]
  },
  {
   "cell_type": "code",
   "execution_count": 161,
   "metadata": {},
   "outputs": [],
   "source": [
    "# TODO: Cleaning numeric data (Ref: 5.1.1)\n",
    "# 1) Identify columns should be numeric, use dtypes() after load; if type is \"object\" -> non-numeric values in data\n",
    "# 2) Use pd.to_numeric(), ref: \"Cleaining Numberic column\" exercise\n",
    "#    a) Also Unit 5.1.4 start, use para errors='coerce' (turn bad values to \"NaN\")\n"
   ]
  },
  {
   "cell_type": "markdown",
   "metadata": {},
   "source": [
    "### Transform Categorical Data"
   ]
  },
  {
   "cell_type": "code",
   "execution_count": 162,
   "metadata": {},
   "outputs": [
    {
     "name": "stdout",
     "output_type": "stream",
     "text": [
      "Dropped Duplicates\n"
     ]
    }
   ],
   "source": [
    "# TODO: Misc Cleaning (6/29/18)\n",
    "# 0) Use count() to review columns that have NULL data\n",
    "# 1) Identify columns that should be Categorical, then change the dtype\n",
    "#    eg tips.smoker = tips.smoker.astype('category')\n",
    "# 2) Identify columns with Missing Data\n",
    "# 3) Run df.drop_duplicates() to ensure no dups\n",
    "# 4) MIssing Data: If needed, (ref: Unit 5.1.4 chap4)\n",
    "#    a) use tips_nan.dropna() to drop them or \n",
    "#    b) fillna() to fill them\n",
    "\n",
    "# TODO (7/3/18): \n",
    "#    1) convert the type values to numeric values so modeling like random forest; etc\n",
    "#    2) Linear Regression: Can't pass number; one hot encoding / dummy variables.\n",
    "\n",
    "# 1) Identify columns that should be Categorical, then change the dtype\n",
    "# columns: property_type, room_type, bed_type, cancellation_policy\n",
    "r_listings['property_type'] = r_listings['property_type'].astype('category')\n",
    "r_listings['room_type'] = r_listings['room_type'].astype('category')\n",
    "r_listings['bed_type'] = r_listings['bed_type'].astype('category')\n",
    "r_listings['cancellation_policy'] = r_listings['cancellation_policy'].astype('category')\n",
    "\n",
    "# 8/17/18: Remove invalid zip codes\n",
    "r_listings['zipcode'] = pd.to_numeric(r_listings['zipcode'], errors='coerce')\n",
    "r_listings = r_listings.dropna(subset=['zipcode'])\n",
    "r_listings['zipcode'] = r_listings['zipcode'].astype('int')\n",
    "\n",
    "r_listings.drop_duplicates() \n",
    "print(\"Dropped Duplicates\")  # 7/24/18: drop_duplicates() somehow lists out whole dataframe"
   ]
  },
  {
   "cell_type": "markdown",
   "metadata": {},
   "source": [
    "### Drop Outliers"
   ]
  },
  {
   "cell_type": "markdown",
   "metadata": {},
   "source": [
    "#### Approach: \n",
    "1) Set a specific price point $2000 and listings above that price is considered outliers"
   ]
  },
  {
   "cell_type": "code",
   "execution_count": 163,
   "metadata": {},
   "outputs": [],
   "source": [
    "# 8/3/18: Removed few outliers that are over $2000\n",
    "# 8/18/18: There are 2 more outliers with $1650 and $1750, lower price threshold to below $1650\n",
    "r_cleaned = r_listings[r_listings['price'] < 1650]"
   ]
  },
  {
   "cell_type": "code",
   "execution_count": 164,
   "metadata": {},
   "outputs": [
    {
     "data": {
      "text/html": [
       "<div>\n",
       "<style scoped>\n",
       "    .dataframe tbody tr th:only-of-type {\n",
       "        vertical-align: middle;\n",
       "    }\n",
       "\n",
       "    .dataframe tbody tr th {\n",
       "        vertical-align: top;\n",
       "    }\n",
       "\n",
       "    .dataframe thead th {\n",
       "        text-align: right;\n",
       "    }\n",
       "</style>\n",
       "<table border=\"1\" class=\"dataframe\">\n",
       "  <thead>\n",
       "    <tr style=\"text-align: right;\">\n",
       "      <th></th>\n",
       "      <th>property_type</th>\n",
       "      <th>price</th>\n",
       "      <th>bedrooms</th>\n",
       "      <th>bathrooms</th>\n",
       "    </tr>\n",
       "    <tr>\n",
       "      <th>id</th>\n",
       "      <th></th>\n",
       "      <th></th>\n",
       "      <th></th>\n",
       "      <th></th>\n",
       "    </tr>\n",
       "  </thead>\n",
       "  <tbody>\n",
       "  </tbody>\n",
       "</table>\n",
       "</div>"
      ],
      "text/plain": [
       "Empty DataFrame\n",
       "Columns: [property_type, price, bedrooms, bathrooms]\n",
       "Index: []"
      ]
     },
     "execution_count": 164,
     "metadata": {},
     "output_type": "execute_result"
    }
   ],
   "source": [
    "r_cleaned[r_cleaned['price'] >= 1650][['property_type','price','bedrooms','bathrooms']]"
   ]
  },
  {
   "cell_type": "markdown",
   "metadata": {},
   "source": [
    "##   Exploratory Data Analysis (EDA) "
   ]
  },
  {
   "cell_type": "markdown",
   "metadata": {},
   "source": [
    "## Overview:\n",
    "1) My audiences are the homeowners who are deciding \n",
    "* if they can make profit listing the house in AirBNB and \n",
    "* best listing price to optimize their profit while to ensure the unit will be leased in reasonable time.\n",
    "\n",
    "2) The analysis will be based on the Supply-side data (AirBNB listings) at the moment to determine the right market price for a specific property"
   ]
  },
  {
   "cell_type": "markdown",
   "metadata": {},
   "source": [
    "## Initial Statistics: "
   ]
  },
  {
   "cell_type": "code",
   "execution_count": 165,
   "metadata": {},
   "outputs": [
    {
     "name": "stdout",
     "output_type": "stream",
     "text": [
      "count    7705.000000\n",
      "mean      144.141077\n",
      "std       109.375475\n",
      "min         0.000000\n",
      "25%        77.000000\n",
      "50%       110.000000\n",
      "75%       175.000000\n",
      "max      1200.000000\n",
      "Name: price, dtype: float64\n"
     ]
    }
   ],
   "source": [
    "print(r_cleaned['price'].describe())"
   ]
  },
  {
   "cell_type": "markdown",
   "metadata": {},
   "source": [
    "### ECDF of the Listing Prices\n",
    "1) The ECDF plot indicates that most of Seattle listing prices (around 97.5 percentile) are $500 or below"
   ]
  },
  {
   "cell_type": "code",
   "execution_count": 166,
   "metadata": {},
   "outputs": [],
   "source": [
    "def ecdf(data):\n",
    "    \"\"\"Compute ECDF for a one-dimensional array of measurements.\"\"\"\n",
    "    # Number of data points: n\n",
    "    n = len(data)\n",
    "    # x-data for the ECDF: x\n",
    "    x = np.sort(data)\n",
    "    # y-data for the ECDF: y\n",
    "    y = np.arange(1, n+1) / n\n",
    "    return x, y"
   ]
  },
  {
   "cell_type": "code",
   "execution_count": 167,
   "metadata": {},
   "outputs": [
    {
     "data": {
      "image/png": "[encoded data removed]",
      "text/plain": [
       "<Figure size 864x720 with 1 Axes>"
      ]
     },
     "metadata": {},
     "output_type": "display_data"
    }
   ],
   "source": [
    "list_prices = r_cleaned['price']\n",
    "\n",
    "# Compute percentiles:\n",
    "percentiles = np.array([2.5, 25, 50, 75, 97.5])\n",
    "ptiles_vers = np.percentile(list_prices, percentiles)\n",
    "\n",
    "# Compute ECDF for versicolor data: x_vers, y_vers\n",
    "x_vers, y_vers = ecdf(list_prices)\n",
    "\n",
    "# Generate plot\n",
    "_ = plt.plot(x_vers, y_vers, marker='.', linestyle='none')\n",
    "\n",
    "# Overlay percentiles as red diamonds.\n",
    "_ = plt.plot(ptiles_vers, percentiles/100, marker='D', color='red',\n",
    "         linestyle='none')\n",
    "\n",
    "# Label the axes\n",
    "_ = plt.xlabel('Listing Prices')\n",
    "_ = plt.ylabel('ECDF')\n",
    "\n",
    "# Display the plot\n",
    "plt.show()"
   ]
  },
  {
   "cell_type": "markdown",
   "metadata": {},
   "source": [
    "## The Questions:"
   ]
  },
  {
   "cell_type": "markdown",
   "metadata": {},
   "source": [
    "### Question: Is there any trend between number of listings and listing prices?"
   ]
  },
  {
   "cell_type": "markdown",
   "metadata": {},
   "source": [
    "#### Approach\n",
    "1) Break down price ranges to 50 buckets<BR>\n",
    "2) Build dataframe with num of listings vs average price under each price bucket<BR>\n",
    "3) Plot a histogram with these data and try to identify correlations<BR>\n",
    "4) Identify further questions from the analysis<BR>"
   ]
  },
  {
   "cell_type": "markdown",
   "metadata": {},
   "source": [
    "#### Trend?\n",
    "1) Listing prices are highly concentrated around the mean price around $150"
   ]
  },
  {
   "cell_type": "code",
   "execution_count": 168,
   "metadata": {},
   "outputs": [
    {
     "data": {
      "image/png": "[encoded data removed]",
      "text/plain": [
       "<Figure size 864x576 with 1 Axes>"
      ]
     },
     "metadata": {},
     "output_type": "display_data"
    }
   ],
   "source": [
    "# ver1\n",
    "list_prices = r_cleaned['price']\n",
    "\n",
    "plt.rcParams[\"figure.figsize\"] = [12, 8]\n",
    "plt.hist(list_prices, bins = 50)\n",
    "plt.title('Seattle Number of Listings vs Listing Prices')\n",
    "plt.xlabel('Listing Prices')\n",
    "plt.ylabel('Number of Listings')\n",
    "plt.show()"
   ]
  },
  {
   "cell_type": "markdown",
   "metadata": {},
   "source": [
    "### Question: Is there any trend between locations (zipcode) and listing prices?"
   ]
  },
  {
   "cell_type": "markdown",
   "metadata": {},
   "source": [
    "#### TODO: \n",
    "1) 8/6/18: a) Should include num of listings/zipcode as a percentage of total listing to gauge the weight in each zipcode (eg 98134 has highest price but may only have 1 listing); b) put as label on each bar/zipcode\n"
   ]
  },
  {
   "cell_type": "markdown",
   "metadata": {},
   "source": [
    "#### Approach\n",
    "1) Build dataframe with num of listings vs average price under each price bucket<BR>\n",
    "2) Plot a Bar chart with these data and try to identify correlations<BR>\n",
    "3) Identify further questions from the analysis<BR>"
   ]
  },
  {
   "cell_type": "markdown",
   "metadata": {},
   "source": [
    "#### Trend? \n",
    "1) From the chart result, listing prices are in a narrow range except for a specific zip 98134"
   ]
  },
  {
   "cell_type": "code",
   "execution_count": 169,
   "metadata": {},
   "outputs": [
    {
     "name": "stdout",
     "output_type": "stream",
     "text": [
      "Total Listings count:  7705\n",
      "Pricing by Zips\n",
      "         mean_price  percent_per_total percent_str\n",
      "zipcode                                           \n",
      "98052     99.000000              0.013      0.013%\n",
      "98101    226.282700              6.152      6.152%\n",
      "98102    145.068607              6.243      6.243%\n",
      "98103    133.991881              9.591      9.591%\n",
      "98104    173.154545              2.855      2.855%\n",
      "98105    109.613583              5.542      5.542%\n",
      "98106     88.730769              2.025      2.025%\n",
      "98107    135.396450              4.387      4.387%\n",
      "98108     96.559322              1.531      1.531%\n",
      "98109    172.120763              6.126      6.126%\n",
      "98112    141.146429              3.634      3.634%\n",
      "98115    110.723464              4.646      4.646%\n",
      "98116    161.954955              2.881      2.881%\n",
      "98117    130.116279              3.907      3.907%\n",
      "98118    122.896552              4.517      4.517%\n",
      "98119    187.979452              3.790       3.79%\n",
      "98121    183.616972              5.659      5.659%\n",
      "98122    138.546651             10.850      10.85%\n",
      "98125    108.200000              2.206      2.206%\n",
      "98126    121.111111              1.635      1.635%\n",
      "98133     84.443478              1.493      1.493%\n",
      "98134    393.166667              0.078      0.078%\n",
      "98136    143.241071              1.454      1.454%\n",
      "98144    119.105747              5.646      5.646%\n",
      "98146    157.473684              0.247      0.247%\n",
      "98155    122.500000              0.026      0.026%\n",
      "98168    177.000000              0.013      0.013%\n",
      "98177    111.175000              0.519      0.519%\n",
      "98178    101.266667              0.389      0.389%\n",
      "98199    166.773333              1.947      1.947%\n"
     ]
    }
   ],
   "source": [
    "# Summary\n",
    "def percent_str(row):\n",
    "    return (str(row['percent_per_total'])+\"%\")\n",
    "\n",
    "price_by_zips = r_cleaned.groupby('zipcode').price.mean()\n",
    "weight_by_zips = round(r_cleaned.groupby('zipcode').price.count()/len(r_cleaned) *100, 3)\n",
    "pricing_by_zips = pd.concat([price_by_zips, weight_by_zips], keys=['mean_price','percent_per_total'], axis=1)\n",
    "pricing_by_zips['percent_str'] = pricing_by_zips.apply (lambda row: percent_str(row),axis=1)\n",
    "\n",
    "print('Total Listings count: ', len(r_cleaned))\n",
    "print(\"Pricing by Zips\")\n",
    "print(pricing_by_zips)"
   ]
  },
  {
   "cell_type": "code",
   "execution_count": 170,
   "metadata": {},
   "outputs": [
    {
     "data": {
      "image/png": "[encoded data removed]",
      "text/plain": [
       "<Figure size 1440x1440 with 1 Axes>"
      ]
     },
     "metadata": {},
     "output_type": "display_data"
    }
   ],
   "source": [
    "#price_by_zips.plot(x='zipcode', kind='bar')\n",
    "plt.rcParams[\"figure.figsize\"] = [20, 20]\n",
    "bc = pricing_by_zips['mean_price'].plot.bar(rot=0)\n",
    "\n",
    "# Add text\n",
    "rects = bc.patches\n",
    "labels = pricing_by_zips['percent_str']\n",
    "for rect, label in zip(rects, labels):\n",
    "    height = rect.get_height()\n",
    "    bc.text(rect.get_x() + rect.get_width() / 2, height + 5, label,\n",
    "            ha='center', va='bottom')\n",
    "    \n",
    "plt.xlabel('Zips')\n",
    "plt.ylabel('Average Listing Price By Zip')\n",
    "plt.title('Seattle Listing Prices By Zipcodes')\n",
    "plt.show()"
   ]
  },
  {
   "cell_type": "markdown",
   "metadata": {},
   "source": [
    "#### 8/18/18: Check Zip 98134 if it's outlier\n",
    "1) There are 6 entries that have reasonable listing prices under this zip, cannot considered as outlier"
   ]
  },
  {
   "cell_type": "code",
   "execution_count": 171,
   "metadata": {},
   "outputs": [
    {
     "data": {
      "text/html": [
       "<div>\n",
       "<style scoped>\n",
       "    .dataframe tbody tr th:only-of-type {\n",
       "        vertical-align: middle;\n",
       "    }\n",
       "\n",
       "    .dataframe tbody tr th {\n",
       "        vertical-align: top;\n",
       "    }\n",
       "\n",
       "    .dataframe thead th {\n",
       "        text-align: right;\n",
       "    }\n",
       "</style>\n",
       "<table border=\"1\" class=\"dataframe\">\n",
       "  <thead>\n",
       "    <tr style=\"text-align: right;\">\n",
       "      <th></th>\n",
       "      <th>property_type</th>\n",
       "      <th>price</th>\n",
       "      <th>bedrooms</th>\n",
       "      <th>bathrooms</th>\n",
       "    </tr>\n",
       "    <tr>\n",
       "      <th>id</th>\n",
       "      <th></th>\n",
       "      <th></th>\n",
       "      <th></th>\n",
       "      <th></th>\n",
       "    </tr>\n",
       "  </thead>\n",
       "  <tbody>\n",
       "    <tr>\n",
       "      <th>789229</th>\n",
       "      <td>Apartment</td>\n",
       "      <td>149.0</td>\n",
       "      <td>1.0</td>\n",
       "      <td>1.0</td>\n",
       "    </tr>\n",
       "    <tr>\n",
       "      <th>2919571</th>\n",
       "      <td>Loft</td>\n",
       "      <td>320.0</td>\n",
       "      <td>2.0</td>\n",
       "      <td>1.0</td>\n",
       "    </tr>\n",
       "    <tr>\n",
       "      <th>15885126</th>\n",
       "      <td>Loft</td>\n",
       "      <td>650.0</td>\n",
       "      <td>0.0</td>\n",
       "      <td>0.5</td>\n",
       "    </tr>\n",
       "    <tr>\n",
       "      <th>16873284</th>\n",
       "      <td>Apartment</td>\n",
       "      <td>170.0</td>\n",
       "      <td>2.0</td>\n",
       "      <td>1.0</td>\n",
       "    </tr>\n",
       "    <tr>\n",
       "      <th>21173203</th>\n",
       "      <td>Other</td>\n",
       "      <td>750.0</td>\n",
       "      <td>0.0</td>\n",
       "      <td>0.0</td>\n",
       "    </tr>\n",
       "    <tr>\n",
       "      <th>21518997</th>\n",
       "      <td>Loft</td>\n",
       "      <td>320.0</td>\n",
       "      <td>1.0</td>\n",
       "      <td>1.0</td>\n",
       "    </tr>\n",
       "  </tbody>\n",
       "</table>\n",
       "</div>"
      ],
      "text/plain": [
       "         property_type  price  bedrooms  bathrooms\n",
       "id                                                \n",
       "789229       Apartment  149.0       1.0        1.0\n",
       "2919571           Loft  320.0       2.0        1.0\n",
       "15885126          Loft  650.0       0.0        0.5\n",
       "16873284     Apartment  170.0       2.0        1.0\n",
       "21173203         Other  750.0       0.0        0.0\n",
       "21518997          Loft  320.0       1.0        1.0"
      ]
     },
     "execution_count": 171,
     "metadata": {},
     "output_type": "execute_result"
    }
   ],
   "source": [
    "# 8/18/18: Check Zip 98134 if it's outlier\n",
    "r_cleaned[r_cleaned['zipcode'] == 98134][['property_type','price','bedrooms','bathrooms']]"
   ]
  },
  {
   "cell_type": "markdown",
   "metadata": {},
   "source": [
    "#### TODO: Calculate the correlation coefficient (8/18/18)\n",
    "1) Also check if this case can use Spearman's rank correlation coefficient?"
   ]
  },
  {
   "cell_type": "markdown",
   "metadata": {},
   "source": [
    "### Question: Is there any relationships between configurations (bathrooms, bedrooms, beds) and listing prices?"
   ]
  },
  {
   "cell_type": "markdown",
   "metadata": {},
   "source": [
    "#### TODO:\n",
    "4) 8/18/18: Q: Why lot less datapoints that actual datafile?\n",
    "1) 8/6/18: Bedrooms/Bathrooms vs price: x,y for bed/bath and use colors for buckets of listing prices (Use Scatter plot with color map)\n",
    "2) Multi analysis: eg price,zipcode,bedroom; price,zipcode,bathroom;\n",
    "3) 8/6: Cleaning Fee: further analysis with bedroom/bathrooms on any trends there."
   ]
  },
  {
   "cell_type": "markdown",
   "metadata": {},
   "source": [
    "#### Approach\n",
    "1) Build dataframe with config_type vs the listing prices (broken in 10 price bucket)<BR>\n",
    "2) Plot Scatterplots with these data and try to identify correlations (eg liner relationship)<BR>"
   ]
  },
  {
   "cell_type": "markdown",
   "metadata": {},
   "source": [
    "#### Number of bedrooms and bathrooms"
   ]
  },
  {
   "cell_type": "markdown",
   "metadata": {},
   "source": [
    "#### Trend? \n",
    "TBD"
   ]
  },
  {
   "cell_type": "markdown",
   "metadata": {},
   "source": [
    "#### Oberservations:\n",
    "1) "
   ]
  },
  {
   "cell_type": "code",
   "execution_count": 172,
   "metadata": {},
   "outputs": [
    {
     "data": {
      "image/png": "[encoded data removed]",
      "text/plain": [
       "<Figure size 1080x1080 with 2 Axes>"
      ]
     },
     "metadata": {},
     "output_type": "display_data"
    }
   ],
   "source": [
    "# Ref: Unit 5.1.2: Hierarchical.. Index (for 2-level X-axis)\n",
    "# eg. stocks = stocks.set_index(['Symbol', 'Date'])\n",
    "\n",
    "# def get_price_bucket(curr_price, size=15):\n",
    "#     max_price = r_cleaned['price'].max()\n",
    "#     bucket_size = max_price/size\n",
    "#     bucket = int(curr_price/bucket_size)+1\n",
    "#     return(bucket)\n",
    "\n",
    "plt.rcParams[\"figure.figsize\"] = [15, 15]\n",
    "rooms_df = r_cleaned[:][['price','bedrooms','bathrooms']]\n",
    "#rooms_df['price_bucket'] = rooms_df['price'].apply(get_price_bucket, size=50)\n",
    "rooms_df = rooms_df.dropna()\n",
    "#print(rooms_df)\n",
    "\n",
    "# Scatter Plot\n",
    "rooms_df.plot.scatter('bedrooms', 'bathrooms', c='price', cmap='viridis')\n",
    "plt.xlabel('Num of Bedrooms')\n",
    "plt.ylabel('Num of Bathrooms')\n",
    "plt.title('Listing Price Trend vs Num of Bedrooms/Bathrooms')\n",
    "plt.show()"
   ]
  },
  {
   "cell_type": "markdown",
   "metadata": {},
   "source": [
    "#### Confirm the outliers data (8/18/18)\n",
    "1) The Outlier with $1650 is a 3-Story Mid-century modern triplex; removed from the data set (8/18/18)"
   ]
  },
  {
   "cell_type": "code",
   "execution_count": 173,
   "metadata": {},
   "outputs": [],
   "source": [
    "# Confirm the outliers price data (8/18/18)\n",
    "# r_cleaned[r_cleaned['bathrooms'] == 6][['property_type','price','bedrooms','bathrooms']]"
   ]
  },
  {
   "cell_type": "markdown",
   "metadata": {},
   "source": [
    "#### TODO: Calculate the correlation coefficient (8/18/18)"
   ]
  },
  {
   "cell_type": "markdown",
   "metadata": {},
   "source": [
    "#### Security Deposit and Cleaning Fee "
   ]
  },
  {
   "cell_type": "markdown",
   "metadata": {},
   "source": [
    "#### TODO:\n",
    "1) Cleaning Fee: further analysis on trend with bedrooms/bathrooms"
   ]
  },
  {
   "cell_type": "markdown",
   "metadata": {},
   "source": [
    "#### Trend? \n",
    "1) From the chart result, Security Deposit and Cleaning Fee don't seem to have impact on listing price"
   ]
  },
  {
   "cell_type": "code",
   "execution_count": 174,
   "metadata": {},
   "outputs": [
    {
     "data": {
      "image/png": "[encoded data removed]",
      "text/plain": [
       "<Figure size 864x720 with 2 Axes>"
      ]
     },
     "metadata": {},
     "output_type": "display_data"
    }
   ],
   "source": [
    "# ver1\n",
    "list_prices = r_cleaned['price']\n",
    "\n",
    "plt.rcParams[\"figure.figsize\"] = [12, 10]\n",
    "plt.subplot(2,1,1)\n",
    "x_data = r_cleaned['security_deposit']\n",
    "plt.xlabel('Security Deposit')\n",
    "plt.ylabel('Listing Prices')\n",
    "plt.title('Seattle Listing Prices vs Security Deposit')\n",
    "plt.scatter(x_data, list_prices)\n",
    "\n",
    "plt.subplot(2,1,2)\n",
    "x_data = r_cleaned['cleaning_fee']\n",
    "plt.xlabel('Cleaning Fee')\n",
    "plt.ylabel('Listing Prices')\n",
    "plt.title('Seattle Listing Prices vs Cleaning Fee')\n",
    "plt.scatter(x_data, list_prices)\n",
    "\n",
    "plt.show()"
   ]
  },
  {
   "cell_type": "markdown",
   "metadata": {},
   "source": [
    "#### Cleaning Fee vs Bedroom/Bathrooms"
   ]
  },
  {
   "cell_type": "markdown",
   "metadata": {},
   "source": [
    "#### Observations \n",
    "1) Num of Bedrooms has more impact on Cleaning Fee than num of bathrooms (based on color changes vs num of rooms)"
   ]
  },
  {
   "cell_type": "code",
   "execution_count": 175,
   "metadata": {},
   "outputs": [
    {
     "data": {
      "image/png": "[encoded data removed]",
      "text/plain": [
       "<Figure size 864x720 with 2 Axes>"
      ]
     },
     "metadata": {},
     "output_type": "display_data"
    }
   ],
   "source": [
    "rooms_df = r_cleaned[:][['cleaning_fee','bedrooms','bathrooms']]\n",
    "rooms_df = rooms_df.dropna()\n",
    "\n",
    "# Scatter Plot\n",
    "rooms_df.plot.scatter('bedrooms', 'bathrooms', c='cleaning_fee', cmap='viridis')\n",
    "plt.xlabel('Num of Bedrooms')\n",
    "plt.ylabel('Num of Bathrooms')\n",
    "plt.title('Cleaning Fee Trend vs Num of Bedrooms/Bathrooms')\n",
    "plt.show()\n"
   ]
  },
  {
   "cell_type": "markdown",
   "metadata": {},
   "source": [
    "### Question: Is there any relationship between listing prices and weekly/monthly prices (if applicable)? \n",
    "1) Want to identify if any discounts given on weekly or monthly price and if there is a certain pattern\n"
   ]
  },
  {
   "cell_type": "markdown",
   "metadata": {},
   "source": [
    "#### Approach\n",
    "TBD"
   ]
  },
  {
   "cell_type": "markdown",
   "metadata": {},
   "source": [
    "## Guideline\n",
    "Steps:\n",
    "1. Ask the following questions and look for the answers using code and plots:<BR>\n",
    "Can you count something interesting?<BR>\n",
    "Can you find trends (e.g. high, low, increasing, decreasing, anomalies)?<BR>\n",
    "Can you make a bar plot or a histogram?<BR>\n",
    "Can you compare two related quantities?<BR>\n",
    "Can you make a scatterplot?<BR>\n",
    "Can you make a time-series plot?<BR>\n",
    "    \n",
    "2. Looking at the plots, what are some insights you can make? Do you see any correlations? Is there a hypothesis you’d like to investigate further? What other questions do the insights lead you to ask?\n",
    "\n",
    "3. Now that you’ve asked questions, hopefully you’ve found some interesting insights. Is there a narrative or a way of presenting the insights using text and plots that tells a compelling story? What are some other trends/relationships you think will make the story more complete?"
   ]
  },
  {
   "cell_type": "markdown",
   "metadata": {},
   "source": [
    "## The Notebook should contain:\n",
    "1. The questions you asked\n",
    "2. The trends you investigated\n",
    "3. The resulting visualizations and conclusions"
   ]
  },
  {
   "cell_type": "code",
   "execution_count": 176,
   "metadata": {},
   "outputs": [],
   "source": [
    "# TODO: Ensure Effective Visualizations (6/29/18)\n",
    "# 1) Ensure not too crowded, clustered. (ref: 03-EDA.pdf)\n",
    "# 2) Bad ones: spend time to read legions, think hard...\n",
    "# 3) Good ones:\n",
    "#   a) Have graphical integrity 2. Keep it simple\n",
    "#   b) Use the right display\n",
    "#   c) Use color strategically 5. Tell a story with data\n",
    "# 4) Guidelines:\n",
    "#   a) Bar chart: should start from 0; if smaller changes -> use other plots (dot plots)\n"
   ]
  },
  {
   "cell_type": "code",
   "execution_count": 177,
   "metadata": {},
   "outputs": [],
   "source": [
    "# UNIT 8.5.1: Project: Capstone Project 1: Exploratory Data Analysis\n",
    "# REQUIREMENTS:\n",
    "# 1) Are there variables that are particularly significant in terms of explaining the answer to your project question?\n",
    "# 2) Are there strong correlations between pairs of independent variables or between an independent and a dependent variable?\n",
    "# 3) What are the most appropriate tests to use to analyse these relationships?\n",
    "\n",
    "## ---------------\n",
    "# 1) Variables: \n",
    "#    a) zipcode; bathroom, bedroom, square feet; types (property_type, room_type, bed_type) \n",
    "#    b) Prices (price, weekly, monthly); \n",
    "#    c) cancellation_policy, security_deposit, cleaning_fee\n"
   ]
  },
  {
   "cell_type": "code",
   "execution_count": 178,
   "metadata": {},
   "outputs": [],
   "source": [
    "# TODOs: 7/1/18:\n",
    "# 1) Hist: Y:Zip, X:Avg Price by ZiP\n",
    "# 1b) Hist: above but break down by bed_type, room_type\n",
    "# 2) Plotter: similar set \n",
    "# TBD: Watch out for outliers\n",
    "\n",
    "# References:\n",
    "# 1) Art of Effective Visualization of Multi-dimensional Data\n",
    "#   URL: https://towardsdatascience.com/the-art-of-effective-visualization-of-multi-dimensional-data-6c7202990c57"
   ]
  },
  {
   "cell_type": "code",
   "execution_count": 179,
   "metadata": {},
   "outputs": [],
   "source": [
    "# CHART: ScatterPlots: x: num of bedrooms, y: price\n",
    "# Conclusion: 1) NO correlation between Number of Bedrooms vs Prices\n",
    "# 7/7/18: Mentor suggests to use Histogram instead.\n",
    "\n",
    "# TODOs/QUESTIONS:\n",
    "# 1) How to plot 2 groups on 2 room types (Entire home/apt vs Private room)\n",
    "# 2) What to do with few outliners that expand prices scale from 2000 or more?\n",
    "\n",
    "# Misc Notes:\n",
    "# a) r_listings['bedrooms']: type is Pandas Series\n",
    "# b) Needed to ensure prices is numeric so will be shown in order\n",
    "\n",
    "# 7/2/18: Control size of the in-line charts\n",
    "# plt.rcParams['figure.figsize'] = [15, 15]\n",
    "\n",
    "# TODOs: 7/3/18 (after mentor call)\n",
    "# 1) Use sns.FacetGrid, put 2 diff colors (Use DJ's article on Visualization)\n",
    "#   a) search for \"fig.suptitle('Wine Type - Alcohol - Quality - Acidity', fontsize=14)\"\n",
    "#   b) \"jp = sns.pairplot(wines, x_vars=[\"sulphates\"], y_vars=[\"alcohol\"], size=4.5,\"\n",
    "\n",
    "# plt.scatter(r_listings['bedrooms'], r_listings['price']) # scatter\n",
    "# plt.title('Number of Bedrooms vs Prices')\n",
    "# plt.xlabel('Num of Bedrooms')\n",
    "# plt.ylabel('Prices')\n",
    "# plt.show()"
   ]
  },
  {
   "cell_type": "code",
   "execution_count": 180,
   "metadata": {},
   "outputs": [],
   "source": [
    "# CHART: Histogram: (7/7/18)\n",
    "# a) Y-axis: Number of listing; \n",
    "# b) X-axis: Break the price ranges to 10 buckets  (eg $0 - $100, $100-$200, $200-$300) and get Average price\n",
    "# c) X-axis: 2 levels: Outer layer - Num of bedrooms; Inner Layer - Average Price in each bucket\n",
    "\n",
    "# Ref: Unit 5.1.2: Hierarchical.. Index (for 2-level X-axis)\n",
    "# eg. stocks = stocks.set_index(['Symbol', 'Date'])"
   ]
  },
  {
   "cell_type": "code",
   "execution_count": 181,
   "metadata": {},
   "outputs": [],
   "source": [
    "# CHART: Bar Chart1 \n",
    "# C1: Hist: Y:Zip, X:Avg Price by ZiP\n",
    "# C2: Hist: Y:Zip, X:Avg Price by ZiP but break down by bed_type, room_type, property_type\n",
    "\n",
    "# Conclusion: TBD\n",
    "\n",
    "# TODOs/QUESTIONS:\n",
    "# 1) 7/3/18: too hard to see all zip codes. Any suggestions?\n",
    "# 2) 7/5/18: How do I sort the zipcodes?\n",
    "\n",
    "# NOTES: 7/7/18\n",
    "# 1) Set zipcodes as Index and use sort_index() so appear sorted (Unit 5.1.2)\n",
    "\n",
    "# NOTES: 7/3/18 (after mentor call)\n",
    "# 2) (Test) use func (https://pandas.pydata.org/pandas-docs/stable/generated/pandas.melt.html)\n",
    "# 3) Use Seaborn (https://seaborn.pydata.org/generated/seaborn.barplot.html)\n",
    "# 4) When I have zipcode on Y-axis, it's harder to see whole chart but easier to see the zipcode\n",
    "# sns.set_style(\"whitegrid\")\n",
    "# ax = sns.barplot(y=\"zipcode\", x=\"price\", hue=\"room_type\", data=r_cleaned) # break down by room_types\n",
    "# plt.rcParams[\"figure.figsize\"] = [20, 16]\n",
    "# plt.title('Prices per Zipcodes by Room Types')\n",
    "# plt.xlabel('Zipcodes')\n",
    "# plt.ylabel('Prices')\n",
    "# plt.show()\n",
    "\n",
    "# NOTES: 7/3/18: Histogram is for continus values but by zipcodes in here is discrete so WRONG chart type to use. "
   ]
  },
  {
   "cell_type": "code",
   "execution_count": 182,
   "metadata": {},
   "outputs": [],
   "source": [
    "# CHART: Bar Chart 2\n",
    "\n",
    "# TODO/Questions: 7/5/18\n",
    "# 1) Suggestions: Many property types make it hard to read and crowded, other ways?\n",
    "# 2) Outliers: Castle, how to address?\n",
    "\n",
    "# plt.subplot(2,1,1) # Grid row, Grid, column, current subplot \n",
    "# sns.set_style(\"whitegrid\")\n",
    "# price_by_type = sns.barplot(y=\"property_type\", x=\"price\", data=r_listings) # break down by room_types\n",
    "\n",
    "# plt.subplot(2,1,2)\n",
    "# sns.set_style(\"whitegrid\")\n",
    "# cnt_by_type = sns.countplot(x=\"property_type\", data=r_listings) \n",
    "# plt.show()\n",
    "\n",
    "# TODOs: 7/3/18 (after mentor call)\n",
    "# 1) Try to use Bar plot instead, only use Pie chart for few categories"
   ]
  },
  {
   "cell_type": "code",
   "execution_count": 183,
   "metadata": {},
   "outputs": [],
   "source": [
    "# CHART: Histogram 1 \n",
    "# 1) X - price per square foot, Y - count (ref: UNIT 10.1.2 NY Housing) (7/5/18)\n",
    "# 2) Take a log() to see difference"
   ]
  },
  {
   "cell_type": "code",
   "execution_count": 184,
   "metadata": {},
   "outputs": [],
   "source": [
    "# CHART: Pearson Correlation\n",
    "# TODOs: 7/3/18 (after mentor call)\n",
    "#  1) https://seaborn.pydata.org/generated/seaborn.heatmap.html (Example at end of page)\n",
    "#  2) Check https://seaborn.pydata.org/examples/many_pairwise_correlations.html\n",
    "\n",
    "# SAMPLE: Pearson Correlation\n",
    "# corr = np.corrcoef(np.random.randn(10, 200))\n",
    "# mask = np.zeros_like(corr)\n",
    "# mask[np.triu_indices_from(mask)] = True\n",
    "# with sns.axes_style(\"white\"):\n",
    "#      ax = sns.heatmap(corr, mask=mask, vmax=.3, square=True)"
   ]
  },
  {
   "cell_type": "code",
   "execution_count": 185,
   "metadata": {},
   "outputs": [],
   "source": [
    "##  =================== Features Engineering ==================="
   ]
  },
  {
   "cell_type": "code",
   "execution_count": 186,
   "metadata": {},
   "outputs": [],
   "source": [
    "# TODOs: (as of 7/5/18)\n",
    "# 1) Assign ranking based on bed_type, room_type and property_type? (7/1/18)\n",
    "# 2) Price/Sq foot, only consider price is meaningless (7/5/18)"
   ]
  },
  {
   "cell_type": "code",
   "execution_count": 187,
   "metadata": {},
   "outputs": [],
   "source": [
    "# TODO: Machine Learning (6/30/18) (Unit 10.1)\n",
    "# 1) Any bias in data? Eg from un-collected data"
   ]
  },
  {
   "cell_type": "code",
   "execution_count": 188,
   "metadata": {},
   "outputs": [],
   "source": [
    "##  =================== Modeling ==================="
   ]
  },
  {
   "cell_type": "code",
   "execution_count": 189,
   "metadata": {},
   "outputs": [],
   "source": [
    "## References:\n",
    "# 1) UNIT 10.1.2: NY Housing Example \n",
    "#    a) Use value/sq foot"
   ]
  },
  {
   "cell_type": "code",
   "execution_count": 190,
   "metadata": {},
   "outputs": [],
   "source": [
    "## Model1: Linear Regressions"
   ]
  },
  {
   "cell_type": "code",
   "execution_count": 191,
   "metadata": {},
   "outputs": [],
   "source": [
    "## Model2: K-nearest neighbors"
   ]
  },
  {
   "cell_type": "code",
   "execution_count": 192,
   "metadata": {},
   "outputs": [],
   "source": [
    "# QUESTIONS (7/3/18):\n",
    "# 3) K-nearest neighbors: \n",
    "#     a) Is using Num of bedrooms make most sense?\n",
    "#     b) OR better to use ZIP, prop_type, etc? How to determine best attribute?"
   ]
  }
 ],
 "metadata": {
  "kernelspec": {
   "display_name": "Python 3",
   "language": "python",
   "name": "python3"
  },
  "language_info": {
   "codemirror_mode": {
    "name": "ipython",
    "version": 3
   },
   "file_extension": ".py",
   "mimetype": "text/x-python",
   "name": "python",
   "nbconvert_exporter": "python",
   "pygments_lexer": "ipython3",
   "version": "3.6.5"
  }
 },
 "nbformat": 4,
 "nbformat_minor": 2
}
